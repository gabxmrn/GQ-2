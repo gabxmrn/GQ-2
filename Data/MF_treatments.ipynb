{
 "cells": [
  {
   "cell_type": "code",
   "execution_count": 39,
   "metadata": {},
   "outputs": [],
   "source": [
    "import pandas as pd"
   ]
  },
  {
   "cell_type": "code",
   "execution_count": 40,
   "metadata": {},
   "outputs": [],
   "source": [
    "# Importation des données - on garde uniquement les colonnes et les dates qui nous intéressent\n",
    "\n",
    "chunk_size = 1000000\n",
    "file_path = \"tr_mutualfunds S12.csv\"\n",
    "columns_to_keep = ['fdate', 'fundname', 'prc']\n",
    "\n",
    "chunk_iterator = pd.read_csv(file_path, chunksize=chunk_size, usecols=columns_to_keep)\n",
    "\n",
    "processed_chunks = []\n",
    "\n",
    "for i, chunk in enumerate(chunk_iterator):\n",
    "    chunk_filtered = chunk[columns_to_keep]\n",
    "    chunk_filtered['fdate'] = pd.to_datetime(chunk_filtered['fdate'], errors='coerce')\n",
    "    chunk_filtered = chunk_filtered[(chunk_filtered['fdate'] >= '1975-01-01') & (chunk_filtered['fdate'] <= '2006-12-31')]\n",
    "\n",
    "    processed_chunks.append(chunk_filtered)\n",
    "\n",
    "data = pd.concat(processed_chunks)"
   ]
  },
  {
   "cell_type": "code",
   "execution_count": 41,
   "metadata": {},
   "outputs": [],
   "source": [
    "data = data.groupby(['fdate', 'fundname']).agg({'prc': 'mean'}).reset_index()\n",
    "\n",
    "for fonds in data['fundname'].unique():\n",
    "\n",
    "    group = data[data['fundname'] == fonds]\n",
    "    group = group.sort_values('fdate')\n",
    "    \n",
    "    # On identifie la prochaine date attendue\n",
    "    group['next_expected_date'] = group['fdate'] + pd.DateOffset(months=3)\n",
    "    group['next_date'] = group['fdate'].shift(-1)\n",
    "    valid_rows = (group['next_date'] == group['next_expected_date']) | group['next_date'].isna()\n",
    "    valid_data = group.loc[valid_rows]\n",
    "\n",
    "    # Calculer les rendements\n",
    "    valid_data['prev_prc'] = valid_data['prc'].shift(1)\n",
    "    valid_data['return'] = (valid_data['prc'] - valid_data['prev_prc']) / valid_data['prev_prc']\n",
    "    \n",
    "    return valid_data.dropna(subset=['return'])"
   ]
  },
  {
   "cell_type": "code",
   "execution_count": 42,
   "metadata": {},
   "outputs": [
    {
     "name": "stderr",
     "output_type": "stream",
     "text": [
      "C:\\Users\\gabri\\AppData\\Local\\Temp\\ipykernel_110632\\4082492189.py:3: DeprecationWarning: DataFrameGroupBy.apply operated on the grouping columns. This behavior is deprecated, and in a future version of pandas the grouping columns will be excluded from the operation. Either pass `include_groups=False` to exclude the groupings or explicitly select the grouping columns after groupby to silence this warning.\n",
      "  result = data.groupby('fundname').apply(process_fund_group).reset_index(drop=True)\n"
     ]
    }
   ],
   "source": [
    "# Calcul des rendements pour chaque fonds\n",
    "data = data.groupby(['fdate', 'fundname']).agg({'prc': 'mean'}).reset_index()\n",
    "result = data.groupby('fundname').apply(process_fund_group).reset_index(drop=True)"
   ]
  },
  {
   "cell_type": "code",
   "execution_count": 43,
   "metadata": {},
   "outputs": [],
   "source": [
    "# Création du dataframe final\n",
    "result = result.drop(columns=['next_expected_date', 'next_date', 'prev_prc', 'prc'])"
   ]
  },
  {
   "cell_type": "code",
   "execution_count": 44,
   "metadata": {},
   "outputs": [],
   "source": [
    "output_file_path = 'mutual_funds_1980_2006_v2.csv'\n",
    "result.to_csv(output_file_path, index=False)"
   ]
  }
 ],
 "metadata": {
  "kernelspec": {
   "display_name": "Python 3",
   "language": "python",
   "name": "python3"
  },
  "language_info": {
   "codemirror_mode": {
    "name": "ipython",
    "version": 3
   },
   "file_extension": ".py",
   "mimetype": "text/x-python",
   "name": "python",
   "nbconvert_exporter": "python",
   "pygments_lexer": "ipython3",
   "version": "3.11.5"
  }
 },
 "nbformat": 4,
 "nbformat_minor": 2
}
