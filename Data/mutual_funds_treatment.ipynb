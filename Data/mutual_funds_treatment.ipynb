{
 "cells": [
  {
   "cell_type": "code",
   "execution_count": 17,
   "metadata": {},
   "outputs": [],
   "source": [
    "import pandas as pd"
   ]
  },
  {
   "cell_type": "code",
   "execution_count": 18,
   "metadata": {},
   "outputs": [],
   "source": [
    "# Importation des données - on garde uniquement les colonnes et les dates qui nous intéressent\n",
    "\n",
    "chunk_size = 1000000\n",
    "file_path = \"tr_mutualfunds S12.csv\"\n",
    "columns_to_keep = ['fdate', 'fundname', 'cusip', 'prc']\n",
    "\n",
    "chunk_iterator = pd.read_csv(file_path, chunksize=chunk_size, usecols=columns_to_keep, dtype={'cusip': str})\n",
    "\n",
    "processed_chunks = []\n",
    "\n",
    "for i, chunk in enumerate(chunk_iterator):\n",
    "    chunk_filtered = chunk[columns_to_keep]\n",
    "    chunk_filtered['fdate'] = pd.to_datetime(chunk_filtered['fdate'], errors='coerce')\n",
    "    chunk_filtered = chunk_filtered[(chunk_filtered['fdate'] >= '1974-01-01') & (chunk_filtered['fdate'] <= '2007-12-31')]\n",
    "\n",
    "    processed_chunks.append(chunk_filtered)\n",
    "\n",
    "data = pd.concat(processed_chunks)"
   ]
  },
  {
   "cell_type": "code",
   "execution_count": 23,
   "metadata": {},
   "outputs": [],
   "source": [
    "result = data.groupby(['fundname', 'fdate'])['prc'].mean().reset_index()\n",
    "\n",
    "rdt = []\n",
    "\n",
    "for fonds in result['fundname'].unique():\n",
    "    fonds_data = result[result['fundname'] == fonds]\n",
    "\n",
    "    fonds_data['rdt'] = fonds_data['prc'].pct_change() * 100\n",
    "    \n",
    "    rdt.append(fonds_data)\n",
    "\n",
    "tot_rdt = pd.concat(rdt)"
   ]
  },
  {
   "cell_type": "code",
   "execution_count": null,
   "metadata": {},
   "outputs": [],
   "source": [
    "final_df = tot_rdt.merge(result[['fdate', 'fundname', 'prc']], on=['fdate', 'fundname'], how='left')"
   ]
  },
  {
   "cell_type": "code",
   "execution_count": null,
   "metadata": {},
   "outputs": [],
   "source": [
    "output_file_path = 'mutual_funds.csv'\n",
    "final_df.to_csv(output_file_path, index=False)"
   ]
  }
 ],
 "metadata": {
  "kernelspec": {
   "display_name": "Python 3",
   "language": "python",
   "name": "python3"
  },
  "language_info": {
   "codemirror_mode": {
    "name": "ipython",
    "version": 3
   },
   "file_extension": ".py",
   "mimetype": "text/x-python",
   "name": "python",
   "nbconvert_exporter": "python",
   "pygments_lexer": "ipython3",
   "version": "3.11.5"
  }
 },
 "nbformat": 4,
 "nbformat_minor": 2
}
