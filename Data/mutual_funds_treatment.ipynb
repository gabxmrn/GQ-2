{
 "cells": [
  {
   "cell_type": "code",
   "execution_count": 9,
   "metadata": {},
   "outputs": [],
   "source": [
    "import pandas as pd"
   ]
  },
  {
   "cell_type": "code",
   "execution_count": 10,
   "metadata": {},
   "outputs": [],
   "source": [
    "# Importation des données - on garde uniquement les colonnes et les dates qui nous intéressent\n",
    "\n",
    "chunk_size = 1000000\n",
    "file_path = \"tr_mutualfunds S12.csv\"\n",
    "columns_to_keep = ['fdate', 'fundname', 'country', 'prc']\n",
    "\n",
    "chunk_iterator = pd.read_csv(file_path, chunksize=chunk_size, usecols=columns_to_keep, dtype={'country': str})\n",
    "\n",
    "processed_chunks = []\n",
    "\n",
    "for i, chunk in enumerate(chunk_iterator):\n",
    "    chunk_filtered = chunk[columns_to_keep]\n",
    "    chunk_filtered['fdate'] = pd.to_datetime(chunk_filtered['fdate'], errors='coerce')\n",
    "    chunk_filtered = chunk_filtered[(chunk_filtered['fdate'] >= '1975-01-01') & (chunk_filtered['fdate'] <= '2023-12-31') & (chunk_filtered['country'] == 'UNITED STATES')]\n",
    "\n",
    "    processed_chunks.append(chunk_filtered)\n",
    "\n",
    "data = pd.concat(processed_chunks)"
   ]
  },
  {
   "cell_type": "code",
   "execution_count": 11,
   "metadata": {},
   "outputs": [],
   "source": [
    "def process_fund_group(group):\n",
    "\n",
    "    group = group.sort_values('fdate')\n",
    "    \n",
    "    # On identifie la prochaine date attendue\n",
    "    group['next_expected_date'] = group['fdate'] + pd.DateOffset(months=3)\n",
    "    group['next_date'] = group['fdate'].shift(-1)\n",
    "    valid_rows = (group['next_date'] == group['next_expected_date']) | group['next_date'].isna()\n",
    "    valid_data = group.loc[valid_rows]\n",
    "\n",
    "    # Calculer les rendements\n",
    "    valid_data['prev_prc'] = valid_data['prc'].shift(1)\n",
    "    valid_data['return'] = (valid_data['prc'] - valid_data['prev_prc']) / valid_data['prev_prc'] * 100\n",
    "    \n",
    "    return valid_data.dropna(subset=['return'])"
   ]
  },
  {
   "cell_type": "code",
   "execution_count": 12,
   "metadata": {},
   "outputs": [
    {
     "name": "stderr",
     "output_type": "stream",
     "text": [
      "C:\\Users\\gabri\\AppData\\Local\\Temp\\ipykernel_109960\\2387281292.py:3: DeprecationWarning: DataFrameGroupBy.apply operated on the grouping columns. This behavior is deprecated, and in a future version of pandas the grouping columns will be excluded from the operation. Either pass `include_groups=False` to exclude the groupings or explicitly select the grouping columns after groupby to silence this warning.\n",
      "  result = data_m.groupby('fundname').apply(process_fund_group).reset_index(drop=True)\n"
     ]
    }
   ],
   "source": [
    "# Calcul des rendements pour chaque fonds\n",
    "data_m = data.groupby(['fdate', 'fundname']).agg({'prc': 'mean'}).reset_index()\n",
    "result = data_m.groupby('fundname').apply(process_fund_group).reset_index(drop=True)"
   ]
  },
  {
   "cell_type": "code",
   "execution_count": 13,
   "metadata": {},
   "outputs": [
    {
     "data": {
      "text/html": [
       "<div>\n",
       "<style scoped>\n",
       "    .dataframe tbody tr th:only-of-type {\n",
       "        vertical-align: middle;\n",
       "    }\n",
       "\n",
       "    .dataframe tbody tr th {\n",
       "        vertical-align: top;\n",
       "    }\n",
       "\n",
       "    .dataframe thead th {\n",
       "        text-align: right;\n",
       "    }\n",
       "</style>\n",
       "<table border=\"1\" class=\"dataframe\">\n",
       "  <thead>\n",
       "    <tr style=\"text-align: right;\">\n",
       "      <th></th>\n",
       "      <th>fdate</th>\n",
       "      <th>fundname</th>\n",
       "      <th>prc</th>\n",
       "      <th>next_expected_date</th>\n",
       "      <th>next_date</th>\n",
       "      <th>prev_prc</th>\n",
       "      <th>return</th>\n",
       "    </tr>\n",
       "  </thead>\n",
       "  <tbody>\n",
       "    <tr>\n",
       "      <th>0</th>\n",
       "      <td>2016-03-31</td>\n",
       "      <td>1290 CONVERTIBLE SECURIT</td>\n",
       "      <td>67.100000</td>\n",
       "      <td>2016-06-30</td>\n",
       "      <td>2016-06-30</td>\n",
       "      <td>68.701111</td>\n",
       "      <td>-2.330546</td>\n",
       "    </tr>\n",
       "    <tr>\n",
       "      <th>1</th>\n",
       "      <td>2016-06-30</td>\n",
       "      <td>1290 CONVERTIBLE SECURIT</td>\n",
       "      <td>69.849091</td>\n",
       "      <td>2016-09-30</td>\n",
       "      <td>2016-09-30</td>\n",
       "      <td>67.100000</td>\n",
       "      <td>4.097006</td>\n",
       "    </tr>\n",
       "    <tr>\n",
       "      <th>2</th>\n",
       "      <td>2016-12-31</td>\n",
       "      <td>1290 CONVERTIBLE SECURIT</td>\n",
       "      <td>59.553571</td>\n",
       "      <td>2017-03-31</td>\n",
       "      <td>2017-03-31</td>\n",
       "      <td>69.849091</td>\n",
       "      <td>-14.739661</td>\n",
       "    </tr>\n",
       "    <tr>\n",
       "      <th>3</th>\n",
       "      <td>2017-03-31</td>\n",
       "      <td>1290 CONVERTIBLE SECURIT</td>\n",
       "      <td>57.646250</td>\n",
       "      <td>2017-06-30</td>\n",
       "      <td>2017-06-30</td>\n",
       "      <td>59.553571</td>\n",
       "      <td>-3.202699</td>\n",
       "    </tr>\n",
       "    <tr>\n",
       "      <th>4</th>\n",
       "      <td>2017-06-30</td>\n",
       "      <td>1290 CONVERTIBLE SECURIT</td>\n",
       "      <td>62.661250</td>\n",
       "      <td>2017-09-30</td>\n",
       "      <td>2017-09-30</td>\n",
       "      <td>57.646250</td>\n",
       "      <td>8.699612</td>\n",
       "    </tr>\n",
       "  </tbody>\n",
       "</table>\n",
       "</div>"
      ],
      "text/plain": [
       "       fdate                  fundname        prc next_expected_date  \\\n",
       "0 2016-03-31  1290 CONVERTIBLE SECURIT  67.100000         2016-06-30   \n",
       "1 2016-06-30  1290 CONVERTIBLE SECURIT  69.849091         2016-09-30   \n",
       "2 2016-12-31  1290 CONVERTIBLE SECURIT  59.553571         2017-03-31   \n",
       "3 2017-03-31  1290 CONVERTIBLE SECURIT  57.646250         2017-06-30   \n",
       "4 2017-06-30  1290 CONVERTIBLE SECURIT  62.661250         2017-09-30   \n",
       "\n",
       "   next_date   prev_prc     return  \n",
       "0 2016-06-30  68.701111  -2.330546  \n",
       "1 2016-09-30  67.100000   4.097006  \n",
       "2 2017-03-31  69.849091 -14.739661  \n",
       "3 2017-06-30  59.553571  -3.202699  \n",
       "4 2017-09-30  57.646250   8.699612  "
      ]
     },
     "execution_count": 13,
     "metadata": {},
     "output_type": "execute_result"
    }
   ],
   "source": [
    "result.head()"
   ]
  },
  {
   "cell_type": "code",
   "execution_count": 14,
   "metadata": {},
   "outputs": [],
   "source": [
    "# Création du dataframe final\n",
    "result = result.drop(columns=['next_expected_date', 'next_date', 'prev_prc', 'prc'])"
   ]
  },
  {
   "cell_type": "code",
   "execution_count": 15,
   "metadata": {},
   "outputs": [
    {
     "data": {
      "text/html": [
       "<div>\n",
       "<style scoped>\n",
       "    .dataframe tbody tr th:only-of-type {\n",
       "        vertical-align: middle;\n",
       "    }\n",
       "\n",
       "    .dataframe tbody tr th {\n",
       "        vertical-align: top;\n",
       "    }\n",
       "\n",
       "    .dataframe thead th {\n",
       "        text-align: right;\n",
       "    }\n",
       "</style>\n",
       "<table border=\"1\" class=\"dataframe\">\n",
       "  <thead>\n",
       "    <tr style=\"text-align: right;\">\n",
       "      <th></th>\n",
       "      <th>fdate</th>\n",
       "      <th>fundname</th>\n",
       "      <th>return</th>\n",
       "    </tr>\n",
       "  </thead>\n",
       "  <tbody>\n",
       "    <tr>\n",
       "      <th>0</th>\n",
       "      <td>2016-03-31</td>\n",
       "      <td>1290 CONVERTIBLE SECURIT</td>\n",
       "      <td>-2.330546</td>\n",
       "    </tr>\n",
       "    <tr>\n",
       "      <th>1</th>\n",
       "      <td>2016-06-30</td>\n",
       "      <td>1290 CONVERTIBLE SECURIT</td>\n",
       "      <td>4.097006</td>\n",
       "    </tr>\n",
       "    <tr>\n",
       "      <th>2</th>\n",
       "      <td>2016-12-31</td>\n",
       "      <td>1290 CONVERTIBLE SECURIT</td>\n",
       "      <td>-14.739661</td>\n",
       "    </tr>\n",
       "    <tr>\n",
       "      <th>3</th>\n",
       "      <td>2017-03-31</td>\n",
       "      <td>1290 CONVERTIBLE SECURIT</td>\n",
       "      <td>-3.202699</td>\n",
       "    </tr>\n",
       "    <tr>\n",
       "      <th>4</th>\n",
       "      <td>2017-06-30</td>\n",
       "      <td>1290 CONVERTIBLE SECURIT</td>\n",
       "      <td>8.699612</td>\n",
       "    </tr>\n",
       "  </tbody>\n",
       "</table>\n",
       "</div>"
      ],
      "text/plain": [
       "       fdate                  fundname     return\n",
       "0 2016-03-31  1290 CONVERTIBLE SECURIT  -2.330546\n",
       "1 2016-06-30  1290 CONVERTIBLE SECURIT   4.097006\n",
       "2 2016-12-31  1290 CONVERTIBLE SECURIT -14.739661\n",
       "3 2017-03-31  1290 CONVERTIBLE SECURIT  -3.202699\n",
       "4 2017-06-30  1290 CONVERTIBLE SECURIT   8.699612"
      ]
     },
     "execution_count": 15,
     "metadata": {},
     "output_type": "execute_result"
    }
   ],
   "source": [
    "result.head()"
   ]
  },
  {
   "cell_type": "code",
   "execution_count": 16,
   "metadata": {},
   "outputs": [
    {
     "name": "stdout",
     "output_type": "stream",
     "text": [
      "29152\n"
     ]
    }
   ],
   "source": [
    "result2 = result.groupby('fundname').filter(lambda x: x['return'].notnull().count() >= 20)\n",
    "print(len(result[\"fundname\"].unique()))"
   ]
  },
  {
   "cell_type": "code",
   "execution_count": 17,
   "metadata": {},
   "outputs": [],
   "source": [
    "output_file_path = 'mutual_funds_1975_2023.csv'\n",
    "result2.to_csv(output_file_path, index=False)"
   ]
  }
 ],
 "metadata": {
  "kernelspec": {
   "display_name": "Python 3",
   "language": "python",
   "name": "python3"
  },
  "language_info": {
   "codemirror_mode": {
    "name": "ipython",
    "version": 3
   },
   "file_extension": ".py",
   "mimetype": "text/x-python",
   "name": "python",
   "nbconvert_exporter": "python",
   "pygments_lexer": "ipython3",
   "version": "3.11.5"
  }
 },
 "nbformat": 4,
 "nbformat_minor": 2
}
